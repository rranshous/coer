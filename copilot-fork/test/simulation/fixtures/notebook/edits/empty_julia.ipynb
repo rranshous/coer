{
 "cells": [],
 "metadata": {
  "language_info": {
   "name": "julia"
  }
 },
 "nbformat": 4,
 "nbformat_minor": 2
}
