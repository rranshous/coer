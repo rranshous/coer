{
 "cells": [
  {
   "cell_type": "code",
   "execution_count": null,
   "metadata": {},
   "outputs": [],
   "source": [
    "from setuptools import setup\n",
    "\n",
    "setup(\n",
    "    name=\"Demo\",\n",
    "    license=\"MIT\",\n",
    "    version=\"0.1.2\",\n",
    "    author_email=\"sebastien@eustace.io\",\n",
    "    url=\"https://github.com/demo/demo\",\n",
    "    packages=[\"demo\"],\n",
    "    platforms={'platform' : 8},\n",
    "    install_requires=[\"pendulum>=1.4.4\"],\n",
    "    extras_require={\"foo\": [\"cleo\"], \"bar\": [\"tomlkit\"]},\n",
    ")\n"
   ]
  }
 ],
 "metadata": {
  "language_info": {
   "name": "python"
  }
 },
 "nbformat": 4,
 "nbformat_minor": 2
}
