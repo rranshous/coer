{
 "cells": [
  {
   "cell_type": "code",
   "execution_count": null,
   "metadata": {},
   "outputs": [],
   "source": [
    "\n",
    "class Parser:\n",
    "    def __init__(self):\n",
    "        self.T_And = ''\n",
    "        self.T_False = ''\n",
    "\n",
    "    # False\n",
    "    def handleInput(self, input):\n",
    "        if input == T_Or or input == self.T_And:\n",
    "           print('input is Or or And')"
   ]
  }
 ],
 "metadata": {
  "language_info": {
   "name": "python"
  }
 },
 "nbformat": 4,
 "nbformat_minor": 2
}
