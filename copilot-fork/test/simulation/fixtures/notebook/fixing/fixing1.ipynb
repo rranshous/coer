{
 "cells": [
  {
   "cell_type": "code",
   "execution_count": null,
   "metadata": {},
   "outputs": [],
   "source": [
    "from typing import Annotated\n",
    "\n",
    "# This should generate an error because all Annotated types should\n",
    "# include at least two type arguments.\n",
    "d: Annotated[int]"
   ]
  }
 ],
 "metadata": {
  "language_info": {
   "name": "python"
  }
 },
 "nbformat": 4,
 "nbformat_minor": 2
}
