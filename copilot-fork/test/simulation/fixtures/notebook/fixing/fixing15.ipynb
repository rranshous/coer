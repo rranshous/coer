{
 "cells": [
  {
   "cell_type": "code",
   "execution_count": null,
   "metadata": {},
   "outputs": [],
   "source": [
    "Play('player-1','player-2')\n",
    "\n",
    "class Play:\n",
    "    def __init__(self, player1, player2):\n",
    "        print(player1)\n",
    "        print(player2)"
   ]
  }
 ],
 "metadata": {
  "language_info": {
   "name": "python"
  }
 },
 "nbformat": 4,
 "nbformat_minor": 2
}
