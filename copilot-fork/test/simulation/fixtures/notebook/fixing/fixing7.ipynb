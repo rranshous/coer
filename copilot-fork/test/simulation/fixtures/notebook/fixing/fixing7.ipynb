{
 "cells": [
  {
   "cell_type": "code",
   "execution_count": null,
   "metadata": {},
   "outputs": [],
   "source": [
    "setOfPeople = set()\n",
    "setOfPeople.add(['Maria', 'John', 'Peter'])\n",
    "included = setOfPeople.includes('Maria')\n",
    "print('Maria is : ' + str(included))"
   ]
  }
 ],
 "metadata": {
  "language_info": {
   "name": "python"
  }
 },
 "nbformat": 4,
 "nbformat_minor": 2
}
